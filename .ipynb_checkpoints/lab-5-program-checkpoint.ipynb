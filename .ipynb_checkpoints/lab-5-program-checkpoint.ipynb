{
 "cells": [
  {
   "cell_type": "code",
   "execution_count": 7,
   "metadata": {},
   "outputs": [
    {
     "name": "stdin",
     "output_type": "stream",
     "text": [
      "Enter a name: mark\n",
      "Enter their age: 18\n"
     ]
    },
    {
     "name": "stdout",
     "output_type": "stream",
     "text": [
      "mark is 18 years old\n",
      "\n"
     ]
    },
    {
     "name": "stdin",
     "output_type": "stream",
     "text": [
      "Would you like to enter another name? Enter yes or no:  jf\n"
     ]
    },
    {
     "name": "stdout",
     "output_type": "stream",
     "text": [
      "\n",
      "ERROR: please enter yes or no\n",
      "\n"
     ]
    },
    {
     "name": "stdin",
     "output_type": "stream",
     "text": [
      "Would you like to enter another name? Enter yes or no:  fj\n"
     ]
    },
    {
     "name": "stdout",
     "output_type": "stream",
     "text": [
      "\n",
      "ERROR: please enter yes or no\n",
      "\n"
     ]
    },
    {
     "name": "stdin",
     "output_type": "stream",
     "text": [
      "Would you like to enter another name? Enter yes or no:  fj\n"
     ]
    },
    {
     "name": "stdout",
     "output_type": "stream",
     "text": [
      "\n",
      "ERROR: please enter yes or no\n",
      "\n"
     ]
    },
    {
     "name": "stdin",
     "output_type": "stream",
     "text": [
      "Would you like to enter another name? Enter yes or no:  no\n"
     ]
    },
    {
     "name": "stdout",
     "output_type": "stream",
     "text": [
      "\n",
      "Ending program. . .\n"
     ]
    }
   ],
   "source": [
    "def main():\n",
    "    \n",
    "    name = input(\"Enter a name:\")\n",
    "    age = input(\"Enter their age:\")\n",
    "    \n",
    "    if age.isint() == true\n",
    "        print(name + \" is \" + age + \" years old\")\n",
    "    else:\n",
    "        \"ERROR: age entered was not an integer\"\n",
    "        main()\n",
    "    \n",
    "    restart()\n",
    "        \n",
    "def restart():\n",
    "    print()\n",
    "    question = input(\"Would you like to enter another name? Enter yes or no: \")\n",
    "    if question == 'yes' or question == 'Yes' or question == 'YES':\n",
    "        main()\n",
    "    elif question == 'no' or question == 'No' or question == 'NO':\n",
    "        print()\n",
    "        print(\"Ending program. . .\")\n",
    "    else:\n",
    "        print()\n",
    "        print(\"ERROR: please enter yes or no\")\n",
    "        restart()\n",
    "        \n",
    "main()"
   ]
  },
  {
   "cell_type": "code",
   "execution_count": null,
   "metadata": {},
   "outputs": [],
   "source": []
  }
 ],
 "metadata": {
  "kernelspec": {
   "display_name": "Python 3",
   "language": "python",
   "name": "python3"
  },
  "language_info": {
   "codemirror_mode": {
    "name": "ipython",
    "version": 3
   },
   "file_extension": ".py",
   "mimetype": "text/x-python",
   "name": "python",
   "nbconvert_exporter": "python",
   "pygments_lexer": "ipython3",
   "version": "3.8.3"
  }
 },
 "nbformat": 4,
 "nbformat_minor": 4
}
