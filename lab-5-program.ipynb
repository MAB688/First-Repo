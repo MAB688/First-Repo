{
 "cells": [
  {
   "cell_type": "code",
   "execution_count": null,
   "metadata": {},
   "outputs": [],
   "source": [
    "def main():\n",
    "    \n",
    "    name = input(\"Enter a name:\")\n",
    "    color = input(\"Enter their favorite color:\")\n",
    "    print(name + \"'s favorite color is \" + color)\n",
    "    restart()\n",
    "        \n",
    "def restart():\n",
    "    print()\n",
    "    question = input(\"Would you like to enter another name? Enter yes or no: \")\n",
    "    if question == 'yes' or question == 'Yes' or question == 'YES':\n",
    "        main()\n",
    "    elif question == 'no' or question == 'No' or question == 'NO':\n",
    "        print()\n",
    "        print(\"Ending program. . .\")\n",
    "    else:\n",
    "        print()\n",
    "        print(\"ERROR: please enter yes or no\")\n",
    "        restart()\n",
    "        \n",
    "main()"
   ]
  }
 ],
 "metadata": {
  "kernelspec": {
   "display_name": "Python 3",
   "language": "python",
   "name": "python3"
  },
  "language_info": {
   "codemirror_mode": {
    "name": "ipython",
    "version": 3
   },
   "file_extension": ".py",
   "mimetype": "text/x-python",
   "name": "python",
   "nbconvert_exporter": "python",
   "pygments_lexer": "ipython3",
   "version": "3.8.3"
  }
 },
 "nbformat": 4,
 "nbformat_minor": 4
}
